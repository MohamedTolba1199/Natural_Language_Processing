{
  "nbformat": 4,
  "nbformat_minor": 0,
  "metadata": {
    "colab": {
      "provenance": [],
      "authorship_tag": "ABX9TyMw9jU8tBCKoxWDQhcrJrcz",
      "include_colab_link": true
    },
    "kernelspec": {
      "name": "python3",
      "display_name": "Python 3"
    },
    "language_info": {
      "name": "python"
    }
  },
  "cells": [
    {
      "cell_type": "markdown",
      "metadata": {
        "id": "view-in-github",
        "colab_type": "text"
      },
      "source": [
        "<a href=\"https://colab.research.google.com/github/MohamedTolba1199/Natural_Language_Processing/blob/main/NLP2.ipynb\" target=\"_parent\"><img src=\"https://colab.research.google.com/assets/colab-badge.svg\" alt=\"Open In Colab\"/></a>"
      ]
    },
    {
      "cell_type": "markdown",
      "source": [
        "\n",
        "#POS(Part of speech)\n",
        "\n",
        "1- token.pos_ >>>>>>>represent pos(verp, noun,....)\n",
        "\n",
        "2- spacy.explain(token.pos_)   >>>>>akes the part-of-speech tag as an argument and returns a brief explanation of what the pos represents.\n",
        "\n",
        "3- token.tag_  >>>> tell me the tense(الزمن  بتاعى )\n",
        "\n",
        "4- spacy.explain(token.tag_ ) >>>> returns a brief explanation of what the tag represents"
      ],
      "metadata": {
        "id": "ohLmSclJNnZM"
      }
    },
    {
      "cell_type": "code",
      "execution_count": 1,
      "metadata": {
        "colab": {
          "base_uri": "https://localhost:8080/"
        },
        "id": "hLAPlF7BNEvn",
        "outputId": "ce70bd4c-f9a1-4854-91a3-9cc1725e1fb6"
      },
      "outputs": [
        {
          "output_type": "stream",
          "name": "stdout",
          "text": [
            "Collecting en-core-web-sm==3.7.1\n",
            "  Downloading https://github.com/explosion/spacy-models/releases/download/en_core_web_sm-3.7.1/en_core_web_sm-3.7.1-py3-none-any.whl (12.8 MB)\n",
            "\u001b[2K     \u001b[90m━━━━━━━━━━━━━━━━━━━━━━━━━━━━━━━━━━━━━━━━\u001b[0m \u001b[32m12.8/12.8 MB\u001b[0m \u001b[31m33.6 MB/s\u001b[0m eta \u001b[36m0:00:00\u001b[0m\n",
            "\u001b[?25hRequirement already satisfied: spacy<3.8.0,>=3.7.2 in /usr/local/lib/python3.10/dist-packages (from en-core-web-sm==3.7.1) (3.7.2)\n",
            "Requirement already satisfied: spacy-legacy<3.1.0,>=3.0.11 in /usr/local/lib/python3.10/dist-packages (from spacy<3.8.0,>=3.7.2->en-core-web-sm==3.7.1) (3.0.12)\n",
            "Requirement already satisfied: spacy-loggers<2.0.0,>=1.0.0 in /usr/local/lib/python3.10/dist-packages (from spacy<3.8.0,>=3.7.2->en-core-web-sm==3.7.1) (1.0.5)\n",
            "Requirement already satisfied: murmurhash<1.1.0,>=0.28.0 in /usr/local/lib/python3.10/dist-packages (from spacy<3.8.0,>=3.7.2->en-core-web-sm==3.7.1) (1.0.10)\n",
            "Requirement already satisfied: cymem<2.1.0,>=2.0.2 in /usr/local/lib/python3.10/dist-packages (from spacy<3.8.0,>=3.7.2->en-core-web-sm==3.7.1) (2.0.8)\n",
            "Requirement already satisfied: preshed<3.1.0,>=3.0.2 in /usr/local/lib/python3.10/dist-packages (from spacy<3.8.0,>=3.7.2->en-core-web-sm==3.7.1) (3.0.9)\n",
            "Requirement already satisfied: thinc<8.3.0,>=8.1.8 in /usr/local/lib/python3.10/dist-packages (from spacy<3.8.0,>=3.7.2->en-core-web-sm==3.7.1) (8.2.3)\n",
            "Requirement already satisfied: wasabi<1.2.0,>=0.9.1 in /usr/local/lib/python3.10/dist-packages (from spacy<3.8.0,>=3.7.2->en-core-web-sm==3.7.1) (1.1.2)\n",
            "Requirement already satisfied: srsly<3.0.0,>=2.4.3 in /usr/local/lib/python3.10/dist-packages (from spacy<3.8.0,>=3.7.2->en-core-web-sm==3.7.1) (2.4.8)\n",
            "Requirement already satisfied: catalogue<2.1.0,>=2.0.6 in /usr/local/lib/python3.10/dist-packages (from spacy<3.8.0,>=3.7.2->en-core-web-sm==3.7.1) (2.0.10)\n",
            "Requirement already satisfied: weasel<0.4.0,>=0.1.0 in /usr/local/lib/python3.10/dist-packages (from spacy<3.8.0,>=3.7.2->en-core-web-sm==3.7.1) (0.3.4)\n",
            "Requirement already satisfied: typer<0.10.0,>=0.3.0 in /usr/local/lib/python3.10/dist-packages (from spacy<3.8.0,>=3.7.2->en-core-web-sm==3.7.1) (0.9.0)\n",
            "Requirement already satisfied: smart-open<7.0.0,>=5.2.1 in /usr/local/lib/python3.10/dist-packages (from spacy<3.8.0,>=3.7.2->en-core-web-sm==3.7.1) (6.4.0)\n",
            "Requirement already satisfied: tqdm<5.0.0,>=4.38.0 in /usr/local/lib/python3.10/dist-packages (from spacy<3.8.0,>=3.7.2->en-core-web-sm==3.7.1) (4.66.2)\n",
            "Requirement already satisfied: requests<3.0.0,>=2.13.0 in /usr/local/lib/python3.10/dist-packages (from spacy<3.8.0,>=3.7.2->en-core-web-sm==3.7.1) (2.31.0)\n",
            "Requirement already satisfied: pydantic!=1.8,!=1.8.1,<3.0.0,>=1.7.4 in /usr/local/lib/python3.10/dist-packages (from spacy<3.8.0,>=3.7.2->en-core-web-sm==3.7.1) (2.6.1)\n",
            "Requirement already satisfied: jinja2 in /usr/local/lib/python3.10/dist-packages (from spacy<3.8.0,>=3.7.2->en-core-web-sm==3.7.1) (3.1.3)\n",
            "Requirement already satisfied: setuptools in /usr/local/lib/python3.10/dist-packages (from spacy<3.8.0,>=3.7.2->en-core-web-sm==3.7.1) (67.7.2)\n",
            "Requirement already satisfied: packaging>=20.0 in /usr/local/lib/python3.10/dist-packages (from spacy<3.8.0,>=3.7.2->en-core-web-sm==3.7.1) (23.2)\n",
            "Requirement already satisfied: langcodes<4.0.0,>=3.2.0 in /usr/local/lib/python3.10/dist-packages (from spacy<3.8.0,>=3.7.2->en-core-web-sm==3.7.1) (3.3.0)\n",
            "Requirement already satisfied: numpy>=1.19.0 in /usr/local/lib/python3.10/dist-packages (from spacy<3.8.0,>=3.7.2->en-core-web-sm==3.7.1) (1.25.2)\n",
            "Requirement already satisfied: annotated-types>=0.4.0 in /usr/local/lib/python3.10/dist-packages (from pydantic!=1.8,!=1.8.1,<3.0.0,>=1.7.4->spacy<3.8.0,>=3.7.2->en-core-web-sm==3.7.1) (0.6.0)\n",
            "Requirement already satisfied: pydantic-core==2.16.2 in /usr/local/lib/python3.10/dist-packages (from pydantic!=1.8,!=1.8.1,<3.0.0,>=1.7.4->spacy<3.8.0,>=3.7.2->en-core-web-sm==3.7.1) (2.16.2)\n",
            "Requirement already satisfied: typing-extensions>=4.6.1 in /usr/local/lib/python3.10/dist-packages (from pydantic!=1.8,!=1.8.1,<3.0.0,>=1.7.4->spacy<3.8.0,>=3.7.2->en-core-web-sm==3.7.1) (4.9.0)\n",
            "Requirement already satisfied: charset-normalizer<4,>=2 in /usr/local/lib/python3.10/dist-packages (from requests<3.0.0,>=2.13.0->spacy<3.8.0,>=3.7.2->en-core-web-sm==3.7.1) (3.3.2)\n",
            "Requirement already satisfied: idna<4,>=2.5 in /usr/local/lib/python3.10/dist-packages (from requests<3.0.0,>=2.13.0->spacy<3.8.0,>=3.7.2->en-core-web-sm==3.7.1) (3.6)\n",
            "Requirement already satisfied: urllib3<3,>=1.21.1 in /usr/local/lib/python3.10/dist-packages (from requests<3.0.0,>=2.13.0->spacy<3.8.0,>=3.7.2->en-core-web-sm==3.7.1) (2.0.7)\n",
            "Requirement already satisfied: certifi>=2017.4.17 in /usr/local/lib/python3.10/dist-packages (from requests<3.0.0,>=2.13.0->spacy<3.8.0,>=3.7.2->en-core-web-sm==3.7.1) (2024.2.2)\n",
            "Requirement already satisfied: blis<0.8.0,>=0.7.8 in /usr/local/lib/python3.10/dist-packages (from thinc<8.3.0,>=8.1.8->spacy<3.8.0,>=3.7.2->en-core-web-sm==3.7.1) (0.7.11)\n",
            "Requirement already satisfied: confection<1.0.0,>=0.0.1 in /usr/local/lib/python3.10/dist-packages (from thinc<8.3.0,>=8.1.8->spacy<3.8.0,>=3.7.2->en-core-web-sm==3.7.1) (0.1.4)\n",
            "Requirement already satisfied: click<9.0.0,>=7.1.1 in /usr/local/lib/python3.10/dist-packages (from typer<0.10.0,>=0.3.0->spacy<3.8.0,>=3.7.2->en-core-web-sm==3.7.1) (8.1.7)\n",
            "Requirement already satisfied: cloudpathlib<0.17.0,>=0.7.0 in /usr/local/lib/python3.10/dist-packages (from weasel<0.4.0,>=0.1.0->spacy<3.8.0,>=3.7.2->en-core-web-sm==3.7.1) (0.16.0)\n",
            "Requirement already satisfied: MarkupSafe>=2.0 in /usr/local/lib/python3.10/dist-packages (from jinja2->spacy<3.8.0,>=3.7.2->en-core-web-sm==3.7.1) (2.1.5)\n",
            "\u001b[38;5;2m✔ Download and installation successful\u001b[0m\n",
            "You can now load the package via spacy.load('en_core_web_sm')\n"
          ]
        }
      ],
      "source": [
        "import spacy\n",
        "!python -m spacy download  en_core_web_sm\n",
        "\n",
        "# en_core_web_sm  >>>>>> pre-trained model is designed for processing English text for tasks such as\n",
        "# part-of-speech tagging, named entity recognition, and dependency parsing."
      ]
    },
    {
      "cell_type": "code",
      "source": [
        "nlp=spacy.load(\"en_core_web_sm\")\n",
        "doc=nlp(\"Elon flew to mars yesterday. He carried biryani masala with him\")\n",
        "for token in doc:\n",
        "  #print(token , token.pos_)\n",
        "  print(token ,'|', token.pos_ ,'|',spacy.explain(token.pos_))"
      ],
      "metadata": {
        "id": "XOcMSSWKOSfJ",
        "colab": {
          "base_uri": "https://localhost:8080/"
        },
        "outputId": "2fa6fa80-90bc-43f2-e508-3acef0539517"
      },
      "execution_count": 2,
      "outputs": [
        {
          "output_type": "stream",
          "name": "stdout",
          "text": [
            "Elon | PROPN | proper noun\n",
            "flew | VERB | verb\n",
            "to | ADP | adposition\n",
            "mars | NOUN | noun\n",
            "yesterday | NOUN | noun\n",
            ". | PUNCT | punctuation\n",
            "He | PRON | pronoun\n",
            "carried | VERB | verb\n",
            "biryani | ADJ | adjective\n",
            "masala | NOUN | noun\n",
            "with | ADP | adposition\n",
            "him | PRON | pronoun\n"
          ]
        }
      ]
    },
    {
      "cell_type": "code",
      "source": [
        "doc = nlp(\"Wow! Dr. Strange made 265 million $ on the very first day\")\n",
        "\n",
        "for token in doc:\n",
        "    print(token,\" || \", token.pos_, \" || \", spacy.explain(token.pos_), \" || \", token.tag_, \" || \", spacy.explain(token.tag_))"
      ],
      "metadata": {
        "colab": {
          "base_uri": "https://localhost:8080/"
        },
        "id": "6WaPwo-cUave",
        "outputId": "42025467-1ef5-4055-efca-45f18d6e9a85"
      },
      "execution_count": 3,
      "outputs": [
        {
          "output_type": "stream",
          "name": "stdout",
          "text": [
            "Wow  ||  INTJ  ||  interjection  ||  UH  ||  interjection\n",
            "!  ||  PUNCT  ||  punctuation  ||  .  ||  punctuation mark, sentence closer\n",
            "Dr.  ||  PROPN  ||  proper noun  ||  NNP  ||  noun, proper singular\n",
            "Strange  ||  PROPN  ||  proper noun  ||  NNP  ||  noun, proper singular\n",
            "made  ||  VERB  ||  verb  ||  VBD  ||  verb, past tense\n",
            "265  ||  NUM  ||  numeral  ||  CD  ||  cardinal number\n",
            "million  ||  NUM  ||  numeral  ||  CD  ||  cardinal number\n",
            "$  ||  NUM  ||  numeral  ||  CD  ||  cardinal number\n",
            "on  ||  ADP  ||  adposition  ||  IN  ||  conjunction, subordinating or preposition\n",
            "the  ||  DET  ||  determiner  ||  DT  ||  determiner\n",
            "very  ||  ADV  ||  adverb  ||  RB  ||  adverb\n",
            "first  ||  ADJ  ||  adjective  ||  JJ  ||  adjective (English), other noun-modifier (Chinese)\n",
            "day  ||  NOUN  ||  noun  ||  NN  ||  noun, singular or mass\n"
          ]
        }
      ]
    },
    {
      "cell_type": "markdown",
      "source": [
        "##Using pos as a filter for Removing all SPACE, PUNCT and X token from text"
      ],
      "metadata": {
        "id": "zsciwhUrWBWa"
      }
    },
    {
      "cell_type": "code",
      "source": [
        "earnings_text=\"\"\"Microsoft Corp. today announced the following results for the quarter ended December 31, 2021, as compared to the corresponding period of last fiscal year:\n",
        "\n",
        "·         Revenue was $51.7 billion and increased 20%\n",
        "·         Operating income was $22.2 billion and increased 24%\n",
        "·         Net income was $18.8 billion and increased 21%\n",
        "·         Diluted earnings per share was $2.48 and increased 22%\n",
        "“Digital technology is the most malleable resource at the world’s disposal to overcome constraints and reimagine everyday work and life,” said Satya Nadella, chairman and chief executive officer of Microsoft. “As tech as a percentage of global GDP continues to increase, we are innovating and investing across diverse and growing markets, with a common underlying technology stack and an operating model that reinforces a common strategy, culture, and sense of purpose.”\n",
        "“Solid commercial execution, represented by strong bookings growth driven by long-term Azure commitments, increased Microsoft Cloud revenue to $22.1 billion, up 32% year over year” said Amy Hood, executive vice president and chief financial officer of Microsoft.\"\"\"\n",
        "\n",
        "nlp=spacy.load(\"en_core_web_sm\")\n",
        "doc=nlp(earnings_text)\n",
        "\n",
        "filtered_tokens=[]\n",
        "for token in doc:\n",
        "  if token.pos_ not in [\"SPACE\",\"PUNCT\",\"X\"]:\n",
        "    filtered_tokens.append(token)"
      ],
      "metadata": {
        "id": "sAZasHwwWOma"
      },
      "execution_count": 4,
      "outputs": []
    },
    {
      "cell_type": "code",
      "source": [
        "filtered_tokens[:10]"
      ],
      "metadata": {
        "colab": {
          "base_uri": "https://localhost:8080/"
        },
        "id": "Aa0Em8xDeFpQ",
        "outputId": "02edc326-5c0e-4a4e-f47e-06dff95d242e"
      },
      "execution_count": 5,
      "outputs": [
        {
          "output_type": "execute_result",
          "data": {
            "text/plain": [
              "[Microsoft,\n",
              " Corp.,\n",
              " today,\n",
              " announced,\n",
              " the,\n",
              " following,\n",
              " results,\n",
              " for,\n",
              " the,\n",
              " quarter]"
            ]
          },
          "metadata": {},
          "execution_count": 5
        }
      ]
    },
    {
      "cell_type": "markdown",
      "source": [
        "##get the count of each pos"
      ],
      "metadata": {
        "id": "UuZ7s-P0Jt3W"
      }
    },
    {
      "cell_type": "code",
      "source": [
        "count=doc.count_by(spacy.attrs.POS)\n",
        "count"
      ],
      "metadata": {
        "id": "kOmmqNXbJOXj",
        "colab": {
          "base_uri": "https://localhost:8080/"
        },
        "outputId": "fe6a5002-301e-497a-8206-9aee178c58a1"
      },
      "execution_count": 6,
      "outputs": [
        {
          "output_type": "execute_result",
          "data": {
            "text/plain": [
              "{96: 13,\n",
              " 92: 46,\n",
              " 100: 24,\n",
              " 90: 9,\n",
              " 85: 16,\n",
              " 93: 16,\n",
              " 97: 27,\n",
              " 98: 1,\n",
              " 84: 20,\n",
              " 103: 10,\n",
              " 87: 6,\n",
              " 99: 5,\n",
              " 89: 12,\n",
              " 86: 3,\n",
              " 94: 3,\n",
              " 95: 2}"
            ]
          },
          "metadata": {},
          "execution_count": 6
        }
      ]
    },
    {
      "cell_type": "code",
      "source": [
        "doc.vocab[96].text"
      ],
      "metadata": {
        "id": "IoVWNGZCKT6I",
        "colab": {
          "base_uri": "https://localhost:8080/",
          "height": 35
        },
        "outputId": "b1cd8bec-a3c0-48d8-c76b-80a1068fe3b3"
      },
      "execution_count": 7,
      "outputs": [
        {
          "output_type": "execute_result",
          "data": {
            "text/plain": [
              "'PROPN'"
            ],
            "application/vnd.google.colaboratory.intrinsic+json": {
              "type": "string"
            }
          },
          "metadata": {},
          "execution_count": 7
        }
      ]
    },
    {
      "cell_type": "code",
      "source": [
        "count.items()\n",
        "for k,v in count.items():\n",
        "  print(doc.vocab[k].text,'|',v)\n"
      ],
      "metadata": {
        "id": "pxlJ7J6WPPcS",
        "colab": {
          "base_uri": "https://localhost:8080/"
        },
        "outputId": "f224ad0e-8f8c-4f0f-eb4d-f5479633a9f0"
      },
      "execution_count": 8,
      "outputs": [
        {
          "output_type": "stream",
          "name": "stdout",
          "text": [
            "PROPN | 13\n",
            "NOUN | 46\n",
            "VERB | 24\n",
            "DET | 9\n",
            "ADP | 16\n",
            "NUM | 16\n",
            "PUNCT | 27\n",
            "SCONJ | 1\n",
            "ADJ | 20\n",
            "SPACE | 10\n",
            "AUX | 6\n",
            "SYM | 5\n",
            "CCONJ | 12\n",
            "ADV | 3\n",
            "PART | 3\n",
            "PRON | 2\n"
          ]
        }
      ]
    },
    {
      "cell_type": "markdown",
      "source": [
        "##apply pos using ntlk not spacy"
      ],
      "metadata": {
        "id": "1Pe2nn-KR881"
      }
    },
    {
      "cell_type": "code",
      "source": [
        "import nltk\n",
        "nltk.download('punkt')\n",
        "nltk.download('averaged_perceptron_tagger')\n",
        "text = \"The quick brown fox jumps over the lazy dog.\"\n",
        "# Tokenize the text into individual words\n",
        "words = nltk.word_tokenize(text)\n",
        "\n",
        "# Perform POS tagging on the tokenized words\n",
        "pos_tags = nltk.pos_tag(words)\n",
        "\n",
        "# Print the POS tags for each word\n",
        "for word, tag in pos_tags:\n",
        "    print(word, tag)"
      ],
      "metadata": {
        "colab": {
          "base_uri": "https://localhost:8080/"
        },
        "id": "SjASXS3hQTwY",
        "outputId": "e9948d51-e9bb-40ea-d71a-42240a4a5831"
      },
      "execution_count": 9,
      "outputs": [
        {
          "output_type": "stream",
          "name": "stdout",
          "text": [
            "The DT\n",
            "quick JJ\n",
            "brown NN\n",
            "fox NN\n",
            "jumps VBZ\n",
            "over IN\n",
            "the DT\n",
            "lazy JJ\n",
            "dog NN\n",
            ". .\n"
          ]
        },
        {
          "output_type": "stream",
          "name": "stderr",
          "text": [
            "[nltk_data] Downloading package punkt to /root/nltk_data...\n",
            "[nltk_data]   Package punkt is already up-to-date!\n",
            "[nltk_data] Downloading package averaged_perceptron_tagger to\n",
            "[nltk_data]     /root/nltk_data...\n",
            "[nltk_data]   Package averaged_perceptron_tagger is already up-to-\n",
            "[nltk_data]       date!\n"
          ]
        }
      ]
    },
    {
      "cell_type": "markdown",
      "source": [
        "#Named Entity Recognition"
      ],
      "metadata": {
        "id": "DZxP3kjGSwnE"
      }
    },
    {
      "cell_type": "code",
      "source": [
        "import spacy\n",
        "nlp = spacy.load(\"en_core_web_sm\")\n",
        "\n",
        "# en_core_web_sm >>> small model\n",
        "# en_core_web_md >>> meduim model\n",
        "# en_core_web_lg >>> large model"
      ],
      "metadata": {
        "id": "5-Nyh1ZCSjpm"
      },
      "execution_count": 10,
      "outputs": []
    },
    {
      "cell_type": "code",
      "source": [
        "nlp.pipe_names\n",
        "#the tasks which it will do"
      ],
      "metadata": {
        "colab": {
          "base_uri": "https://localhost:8080/"
        },
        "id": "U6MVTNvdqQti",
        "outputId": "34c4715e-41bd-4272-cc8c-add1410f67fa"
      },
      "execution_count": 11,
      "outputs": [
        {
          "output_type": "execute_result",
          "data": {
            "text/plain": [
              "['tok2vec', 'tagger', 'parser', 'attribute_ruler', 'lemmatizer', 'ner']"
            ]
          },
          "metadata": {},
          "execution_count": 11
        }
      ]
    },
    {
      "cell_type": "code",
      "source": [
        "doc1 = nlp(\"Tesla Inc is going to acquire twitter for $45 billion\")\n",
        "\n",
        "for ent in doc.ents:\n",
        "    print(ent.text, \" | \", ent.label_, \" | \", spacy.explain(ent.label_))"
      ],
      "metadata": {
        "colab": {
          "base_uri": "https://localhost:8080/"
        },
        "id": "f1b5EC3RqSjF",
        "outputId": "cb56a185-049f-490d-868d-2c0491235284"
      },
      "execution_count": 12,
      "outputs": [
        {
          "output_type": "stream",
          "name": "stdout",
          "text": [
            "Microsoft Corp.  |  ORG  |  Companies, agencies, institutions, etc.\n",
            "today  |  DATE  |  Absolute or relative dates or periods\n",
            "the quarter ended December 31, 2021  |  DATE  |  Absolute or relative dates or periods\n",
            "last fiscal year  |  DATE  |  Absolute or relative dates or periods\n",
            "$51.7 billion  |  MONEY  |  Monetary values, including unit\n",
            "20%  |  PERCENT  |  Percentage, including \"%\"\n",
            "$22.2 billion  |  MONEY  |  Monetary values, including unit\n",
            "24%  |  PERCENT  |  Percentage, including \"%\"\n",
            "$18.8 billion  |  MONEY  |  Monetary values, including unit\n",
            "21%  |  PERCENT  |  Percentage, including \"%\"\n",
            "2.48  |  MONEY  |  Monetary values, including unit\n",
            "22%  |  PERCENT  |  Percentage, including \"%\"\n",
            "Digital  |  ORG  |  Companies, agencies, institutions, etc.\n",
            "Satya Nadella  |  PERSON  |  People, including fictional\n",
            "Microsoft  |  ORG  |  Companies, agencies, institutions, etc.\n",
            "Microsoft  |  ORG  |  Companies, agencies, institutions, etc.\n",
            "$22.1 billion  |  MONEY  |  Monetary values, including unit\n",
            "32%  |  PERCENT  |  Percentage, including \"%\"\n",
            "year over year  |  DATE  |  Absolute or relative dates or periods\n",
            "Amy Hood  |  PERSON  |  People, including fictional\n",
            "Microsoft  |  ORG  |  Companies, agencies, institutions, etc.\n"
          ]
        }
      ]
    },
    {
      "cell_type": "code",
      "source": [
        "from spacy import displacy\n",
        "\n",
        "displacy.render(doc1,style='ent')\n",
        "# https://onecompiler.com/html/3zec3j8sc  >>> to show the result"
      ],
      "metadata": {
        "colab": {
          "base_uri": "https://localhost:8080/",
          "height": 105
        },
        "id": "Vf-imPBQqhiZ",
        "outputId": "cac9fbb6-1bb4-41c5-809e-be21cd8296a3"
      },
      "execution_count": 13,
      "outputs": [
        {
          "output_type": "execute_result",
          "data": {
            "text/plain": [
              "'<div class=\"entities\" style=\"line-height: 2.5; direction: ltr\">\\n<mark class=\"entity\" style=\"background: #7aecec; padding: 0.45em 0.6em; margin: 0 0.25em; line-height: 1; border-radius: 0.35em;\">\\n    Tesla Inc\\n    <span style=\"font-size: 0.8em; font-weight: bold; line-height: 1; border-radius: 0.35em; vertical-align: middle; margin-left: 0.5rem\">ORG</span>\\n</mark>\\n is going to acquire twitter for \\n<mark class=\"entity\" style=\"background: #e4e7d2; padding: 0.45em 0.6em; margin: 0 0.25em; line-height: 1; border-radius: 0.35em;\">\\n    $45 billion\\n    <span style=\"font-size: 0.8em; font-weight: bold; line-height: 1; border-radius: 0.35em; vertical-align: middle; margin-left: 0.5rem\">MONEY</span>\\n</mark>\\n</div>'"
            ],
            "application/vnd.google.colaboratory.intrinsic+json": {
              "type": "string"
            }
          },
          "metadata": {},
          "execution_count": 13
        }
      ]
    },
    {
      "cell_type": "code",
      "source": [
        "##List down all the entities\n",
        "nlp.pipe_labels['ner']"
      ],
      "metadata": {
        "colab": {
          "base_uri": "https://localhost:8080/"
        },
        "id": "ecXYduYaq45H",
        "outputId": "1b1be758-0bcd-491c-9352-8f5ee9097f42"
      },
      "execution_count": 14,
      "outputs": [
        {
          "output_type": "execute_result",
          "data": {
            "text/plain": [
              "['CARDINAL',\n",
              " 'DATE',\n",
              " 'EVENT',\n",
              " 'FAC',\n",
              " 'GPE',\n",
              " 'LANGUAGE',\n",
              " 'LAW',\n",
              " 'LOC',\n",
              " 'MONEY',\n",
              " 'NORP',\n",
              " 'ORDINAL',\n",
              " 'ORG',\n",
              " 'PERCENT',\n",
              " 'PERSON',\n",
              " 'PRODUCT',\n",
              " 'QUANTITY',\n",
              " 'TIME',\n",
              " 'WORK_OF_ART']"
            ]
          },
          "metadata": {},
          "execution_count": 14
        }
      ]
    },
    {
      "cell_type": "code",
      "source": [
        "doc = nlp(\"Tesla Inc is going to acquire Twitter Inc for $45 billion\")\n",
        "for ent in doc.ents:\n",
        "    print(ent.text, \" | \", ent.label_, \" | \", ent.start_char, \"|\", ent.end_char)"
      ],
      "metadata": {
        "colab": {
          "base_uri": "https://localhost:8080/"
        },
        "id": "_XPratSCrU0J",
        "outputId": "7b2e516c-6fde-413e-f83d-4454019f1268"
      },
      "execution_count": 15,
      "outputs": [
        {
          "output_type": "stream",
          "name": "stdout",
          "text": [
            "Tesla Inc  |  ORG  |  0 | 9\n",
            "Twitter Inc  |  ORG  |  30 | 41\n",
            "$45 billion  |  MONEY  |  46 | 57\n"
          ]
        }
      ]
    },
    {
      "cell_type": "code",
      "source": [
        "#Setting custom entities\n",
        "doc = nlp(\"Tesla is going to acquire Twitter for $45 billion\")\n",
        "for ent in doc.ents:\n",
        "    print(ent.text, \" | \", ent.label_)\n",
        "\n",
        "\n",
        "#here, when we deleted inc after twitter, the result was twiiter is product and that uncorrect so i need to handle in manually"
      ],
      "metadata": {
        "colab": {
          "base_uri": "https://localhost:8080/"
        },
        "id": "OvNLT17zreOa",
        "outputId": "3be66cfd-a541-4a81-c1b2-fad03449222d"
      },
      "execution_count": 16,
      "outputs": [
        {
          "output_type": "stream",
          "name": "stdout",
          "text": [
            "Tesla  |  ORG\n",
            "Twitter  |  PRODUCT\n",
            "$45 billion  |  MONEY\n"
          ]
        }
      ]
    },
    {
      "cell_type": "code",
      "source": [
        "s = doc1[2:5]\n",
        "s"
      ],
      "metadata": {
        "colab": {
          "base_uri": "https://localhost:8080/"
        },
        "id": "eNus3itYrkhr",
        "outputId": "dcc4fa89-780f-4ca4-df85-d5c1d3deb0e9"
      },
      "execution_count": 17,
      "outputs": [
        {
          "output_type": "execute_result",
          "data": {
            "text/plain": [
              "is going to"
            ]
          },
          "metadata": {},
          "execution_count": 17
        }
      ]
    },
    {
      "cell_type": "code",
      "source": [
        "type(s)"
      ],
      "metadata": {
        "colab": {
          "base_uri": "https://localhost:8080/"
        },
        "id": "z_olDZzyrobI",
        "outputId": "295f10bc-8eee-40af-8dea-19717a1ab20b"
      },
      "execution_count": 18,
      "outputs": [
        {
          "output_type": "execute_result",
          "data": {
            "text/plain": [
              "spacy.tokens.span.Span"
            ]
          },
          "metadata": {},
          "execution_count": 18
        }
      ]
    },
    {
      "cell_type": "code",
      "source": [
        "from spacy.tokens import Span\n",
        "s1=Span(doc,0,1,label=\"ORG\")\n",
        "s2=Span(doc,5,6,label=\"ORG\")\n",
        "\n",
        "doc.set_ents([s1,s2],default=\"unmodified\")\n",
        "# save the changes in s1,s2 without modification in others indices\n",
        "\n",
        "for ent in doc.ents:\n",
        "  #print(ent.text , \"|\" , ent.label)\n",
        "  print(ent.text , \"|\" , ent.label_)"
      ],
      "metadata": {
        "id": "Yva-S8nQrq8-",
        "colab": {
          "base_uri": "https://localhost:8080/"
        },
        "outputId": "7312954b-8cd5-413a-ec50-1aef56465cbc"
      },
      "execution_count": 19,
      "outputs": [
        {
          "output_type": "stream",
          "name": "stdout",
          "text": [
            "Tesla | ORG\n",
            "Twitter | ORG\n",
            "$45 billion | MONEY\n"
          ]
        }
      ]
    },
    {
      "cell_type": "markdown",
      "source": [
        "##using NLTK\n",
        "\n",
        "\n",
        "1- ne_chunk >>> responsible for NER IN NLTK which take tags as an input"
      ],
      "metadata": {
        "id": "2dNHPI0F1LMw"
      }
    },
    {
      "cell_type": "code",
      "source": [
        "import nltk\n",
        "nltk.download('maxent_ne_chunker')\n",
        "nltk.download('words')\n",
        "from nltk import word_tokenize, pos_tag, ne_chunk\n",
        "\n",
        "# Define input text\n",
        "input_text = \"Steve Jobs was the CEO of Apple Corp. in California.\"\n",
        "\n",
        "# Tokenize input text\n",
        "tokens = word_tokenize(input_text)\n",
        "\n",
        "# Perform Part-of-Speech (POS) tagging\n",
        "pos_tags = pos_tag(tokens)\n",
        "print('-'*100)\n",
        "print('pos_tags',pos_tags)\n",
        "print('-'*100)\n",
        "\n",
        "# Perform Named Entity Recognition (NER)\n",
        "ne_tree = ne_chunk(pos_tags)\n",
        "print('ne_tree',ne_tree)"
      ],
      "metadata": {
        "colab": {
          "base_uri": "https://localhost:8080/"
        },
        "id": "LoHMsDQRzc_A",
        "outputId": "eed56fe8-62d3-4b39-b891-a471889699c2"
      },
      "execution_count": 20,
      "outputs": [
        {
          "output_type": "stream",
          "name": "stdout",
          "text": [
            "----------------------------------------------------------------------------------------------------\n",
            "pos_tags [('Steve', 'NNP'), ('Jobs', 'NNP'), ('was', 'VBD'), ('the', 'DT'), ('CEO', 'NNP'), ('of', 'IN'), ('Apple', 'NNP'), ('Corp.', 'NNP'), ('in', 'IN'), ('California', 'NNP'), ('.', '.')]\n",
            "----------------------------------------------------------------------------------------------------\n",
            "ne_tree (S\n",
            "  (PERSON Steve/NNP)\n",
            "  (PERSON Jobs/NNP)\n",
            "  was/VBD\n",
            "  the/DT\n",
            "  (ORGANIZATION CEO/NNP)\n",
            "  of/IN\n",
            "  (ORGANIZATION Apple/NNP Corp./NNP)\n",
            "  in/IN\n",
            "  (GPE California/NNP)\n",
            "  ./.)\n"
          ]
        },
        {
          "output_type": "stream",
          "name": "stderr",
          "text": [
            "[nltk_data] Downloading package maxent_ne_chunker to\n",
            "[nltk_data]     /root/nltk_data...\n",
            "[nltk_data]   Package maxent_ne_chunker is already up-to-date!\n",
            "[nltk_data] Downloading package words to /root/nltk_data...\n",
            "[nltk_data]   Package words is already up-to-date!\n"
          ]
        }
      ]
    },
    {
      "cell_type": "markdown",
      "source": [
        "#spell correction\n",
        "\n",
        "1- using spellchecker()\n",
        "\n",
        "2- using textblob()"
      ],
      "metadata": {
        "id": "JtfhzimL1iuf"
      }
    },
    {
      "cell_type": "code",
      "source": [
        "from textblob import TextBlob\n",
        "\n",
        "# Create a TextBlob object with the text to correct\n",
        "text = \"I havv a goood speling!\"\n",
        "\n"
      ],
      "metadata": {
        "id": "NMdrTs-r1epH"
      },
      "execution_count": 21,
      "outputs": []
    },
    {
      "cell_type": "code",
      "source": [
        "# Create a new TextBlob object with corrected spelling\n",
        "correct_text = TextBlob(text).correct()\n",
        "print(correct_text)\n"
      ],
      "metadata": {
        "colab": {
          "base_uri": "https://localhost:8080/"
        },
        "id": "BHDrB2Nt2CXb",
        "outputId": "b8df2b1e-6166-419f-bbd7-e87c904661eb"
      },
      "execution_count": 22,
      "outputs": [
        {
          "output_type": "stream",
          "name": "stdout",
          "text": [
            "I have a good spelling!\n"
          ]
        }
      ]
    },
    {
      "cell_type": "markdown",
      "source": [
        "# Bag of words (BOW):"
      ],
      "metadata": {
        "id": "F-acoiGNJutw"
      }
    },
    {
      "cell_type": "code",
      "source": [
        "paragraph =  \"\"\"I have three visions for India. In 3000 years of our history, people from all over\n",
        "               the world have come and invaded us, captured our lands, conquered our minds.\n",
        "               From Alexander onwards, the Greeks, the Turks, the Moguls, the Portuguese, the British,\n",
        "               the French, the Dutch, all of them came and looted us, took over what was ours.\n",
        "               Yet we have not done this to any other nation. We have not conquered anyone.\n",
        "               We have not grabbed their land, their culture,\n",
        "               their history and tried to enforce our way of life on them.\n",
        "               Why? Because we respect the freedom of others.That is why my\n",
        "               first vision is that of freedom. I believe that India got its first vision of\n",
        "               this in 1857, when we started the War of Independence. It is this freedom that\n",
        "               we must protect and nurture and build on. If we are not free, no one will respect us.\n",
        "               My second vision for India’s development. For fifty years we have been a developing nation.\n",
        "               It is time we see ourselves as a developed nation. We are among the top 5 nations of the world\n",
        "               in terms of GDP. We have a 10 percent growth rate in most areas. Our poverty levels are falling.\n",
        "               Our achievements are being globally recognised today. Yet we lack the self-confidence to\n",
        "               see ourselves as a developed nation, self-reliant and self-assured. Isn’t this incorrect?\n",
        "               I have a third vision. India must stand up to the world. Because I believe that unless India\n",
        "               stands up to the world, no one will respect us. Only strength respects strength. We must be\n",
        "               strong not only as a military power but also as an economic power. Both must go hand-in-hand.\n",
        "               My good fortune was to have worked with three great minds. Dr. Vikram Sarabhai of the Dept. of\n",
        "               space, Professor Satish Dhawan, who succeeded him and Dr. Brahm Prakash, father of nuclear material.\n",
        "               I was lucky to have worked with all three of them closely and consider this the great opportunity of my life.\n",
        "               I see four milestones in my career\"\"\""
      ],
      "metadata": {
        "id": "ktzPN9Nx2Wfw"
      },
      "execution_count": 23,
      "outputs": []
    },
    {
      "cell_type": "code",
      "source": [
        "import re\n",
        "import nltk\n",
        "nltk.download('punkt')\n",
        "nltk.download('stopwords')\n",
        "from nltk.corpus import stopwords\n",
        "from nltk.stem.porter import PorterStemmer\n",
        "from nltk.stem import WordNetLemmatizer\n",
        "nltk.download('wordnet')"
      ],
      "metadata": {
        "colab": {
          "base_uri": "https://localhost:8080/"
        },
        "id": "UDsiqE9rKSnk",
        "outputId": "224f6582-d72f-41e5-875a-1f43355fc984"
      },
      "execution_count": 24,
      "outputs": [
        {
          "output_type": "stream",
          "name": "stderr",
          "text": [
            "[nltk_data] Downloading package punkt to /root/nltk_data...\n",
            "[nltk_data]   Package punkt is already up-to-date!\n",
            "[nltk_data] Downloading package stopwords to /root/nltk_data...\n",
            "[nltk_data]   Package stopwords is already up-to-date!\n",
            "[nltk_data] Downloading package wordnet to /root/nltk_data...\n",
            "[nltk_data]   Package wordnet is already up-to-date!\n"
          ]
        },
        {
          "output_type": "execute_result",
          "data": {
            "text/plain": [
              "True"
            ]
          },
          "metadata": {},
          "execution_count": 24
        }
      ]
    },
    {
      "cell_type": "code",
      "source": [
        "stemmer = PorterStemmer()\n",
        "lemitizer = WordNetLemmatizer()\n",
        "\n",
        "sentence = nltk.sent_tokenize(paragraph)\n",
        "sentence"
      ],
      "metadata": {
        "colab": {
          "base_uri": "https://localhost:8080/"
        },
        "id": "AxfezDhTKjcM",
        "outputId": "f2395956-89a7-42e3-b6b4-bd13854ab061"
      },
      "execution_count": 25,
      "outputs": [
        {
          "output_type": "execute_result",
          "data": {
            "text/plain": [
              "['I have three visions for India.',\n",
              " 'In 3000 years of our history, people from all over\\n               the world have come and invaded us, captured our lands, conquered our minds.',\n",
              " 'From Alexander onwards, the Greeks, the Turks, the Moguls, the Portuguese, the British,\\n               the French, the Dutch, all of them came and looted us, took over what was ours.',\n",
              " 'Yet we have not done this to any other nation.',\n",
              " 'We have not conquered anyone.',\n",
              " 'We have not grabbed their land, their culture,\\n               their history and tried to enforce our way of life on them.',\n",
              " 'Why?',\n",
              " 'Because we respect the freedom of others.That is why my\\n               first vision is that of freedom.',\n",
              " 'I believe that India got its first vision of\\n               this in 1857, when we started the War of Independence.',\n",
              " 'It is this freedom that\\n               we must protect and nurture and build on.',\n",
              " 'If we are not free, no one will respect us.',\n",
              " 'My second vision for India’s development.',\n",
              " 'For fifty years we have been a developing nation.',\n",
              " 'It is time we see ourselves as a developed nation.',\n",
              " 'We are among the top 5 nations of the world\\n               in terms of GDP.',\n",
              " 'We have a 10 percent growth rate in most areas.',\n",
              " 'Our poverty levels are falling.',\n",
              " 'Our achievements are being globally recognised today.',\n",
              " 'Yet we lack the self-confidence to\\n               see ourselves as a developed nation, self-reliant and self-assured.',\n",
              " 'Isn’t this incorrect?',\n",
              " 'I have a third vision.',\n",
              " 'India must stand up to the world.',\n",
              " 'Because I believe that unless India\\n               stands up to the world, no one will respect us.',\n",
              " 'Only strength respects strength.',\n",
              " 'We must be\\n               strong not only as a military power but also as an economic power.',\n",
              " 'Both must go hand-in-hand.',\n",
              " 'My good fortune was to have worked with three great minds.',\n",
              " 'Dr. Vikram Sarabhai of the Dept.',\n",
              " 'of\\n               space, Professor Satish Dhawan, who succeeded him and Dr. Brahm Prakash, father of nuclear material.',\n",
              " 'I was lucky to have worked with all three of them closely and consider this the great opportunity of my life.',\n",
              " 'I see four milestones in my career']"
            ]
          },
          "metadata": {},
          "execution_count": 25
        }
      ]
    },
    {
      "cell_type": "code",
      "source": [
        "corpus = []\n",
        "\n",
        "for i in range(len(sentence)):\n",
        "  review=re.sub(\"[^a-zA-Z]\",' ',sentence[i])\n",
        "  review=review.lower()\n",
        "  review=review.split()\n",
        "  #review=[stemmer.stem(word) for word in review if not word in stopwords.words('english')]\n",
        "  review=[lemitizer.lemmatize(word) for word in review if not word in stopwords.words('english')]\n",
        "  review=' '.join(review)\n",
        "  corpus.append(review)"
      ],
      "metadata": {
        "id": "QLXTcMz4MPwc"
      },
      "execution_count": 26,
      "outputs": []
    },
    {
      "cell_type": "code",
      "source": [
        "corpus"
      ],
      "metadata": {
        "colab": {
          "base_uri": "https://localhost:8080/"
        },
        "id": "bX3Q6MaNRUc9",
        "outputId": "affcf119-37dd-4d29-c8f2-0880e1a842d1"
      },
      "execution_count": 27,
      "outputs": [
        {
          "output_type": "execute_result",
          "data": {
            "text/plain": [
              "['three vision india',\n",
              " 'year history people world come invaded u captured land conquered mind',\n",
              " 'alexander onwards greek turk mogul portuguese british french dutch came looted u took',\n",
              " 'yet done nation',\n",
              " 'conquered anyone',\n",
              " 'grabbed land culture history tried enforce way life',\n",
              " '',\n",
              " 'respect freedom others first vision freedom',\n",
              " 'believe india got first vision started war independence',\n",
              " 'freedom must protect nurture build',\n",
              " 'free one respect u',\n",
              " 'second vision india development',\n",
              " 'fifty year developing nation',\n",
              " 'time see developed nation',\n",
              " 'among top nation world term gdp',\n",
              " 'percent growth rate area',\n",
              " 'poverty level falling',\n",
              " 'achievement globally recognised today',\n",
              " 'yet lack self confidence see developed nation self reliant self assured',\n",
              " 'incorrect',\n",
              " 'third vision',\n",
              " 'india must stand world',\n",
              " 'believe unless india stand world one respect u',\n",
              " 'strength respect strength',\n",
              " 'must strong military power also economic power',\n",
              " 'must go hand hand',\n",
              " 'good fortune worked three great mind',\n",
              " 'dr vikram sarabhai dept',\n",
              " 'space professor satish dhawan succeeded dr brahm prakash father nuclear material',\n",
              " 'lucky worked three closely consider great opportunity life',\n",
              " 'see four milestone career']"
            ]
          },
          "metadata": {},
          "execution_count": 27
        }
      ]
    },
    {
      "cell_type": "code",
      "source": [
        "from sklearn.feature_extraction.text import CountVectorizer\n",
        "bow = CountVectorizer()\n",
        "data = bow.fit_transform(corpus).toarray()\n",
        "data"
      ],
      "metadata": {
        "colab": {
          "base_uri": "https://localhost:8080/"
        },
        "id": "MiYguN0-XzAF",
        "outputId": "aa86cf3b-47c7-446f-ae82-ec1038256c4e"
      },
      "execution_count": 28,
      "outputs": [
        {
          "output_type": "execute_result",
          "data": {
            "text/plain": [
              "array([[0, 0, 0, ..., 0, 0, 0],\n",
              "       [0, 0, 0, ..., 1, 1, 0],\n",
              "       [0, 1, 0, ..., 0, 0, 0],\n",
              "       ...,\n",
              "       [0, 0, 0, ..., 0, 0, 0],\n",
              "       [0, 0, 0, ..., 0, 0, 0],\n",
              "       [0, 0, 0, ..., 0, 0, 0]])"
            ]
          },
          "metadata": {},
          "execution_count": 28
        }
      ]
    },
    {
      "cell_type": "code",
      "source": [
        "data.shape"
      ],
      "metadata": {
        "id": "ufsc4AsWbXrn",
        "outputId": "babe484c-e2ad-4943-cdc3-7dd626f34646",
        "colab": {
          "base_uri": "https://localhost:8080/"
        }
      },
      "execution_count": 29,
      "outputs": [
        {
          "output_type": "execute_result",
          "data": {
            "text/plain": [
              "(31, 114)"
            ]
          },
          "metadata": {},
          "execution_count": 29
        }
      ]
    },
    {
      "cell_type": "markdown",
      "source": [
        "#N-GRAM\n",
        "\n",
        "##Uni-GRAM"
      ],
      "metadata": {
        "id": "G4jrle6HecKP"
      }
    },
    {
      "cell_type": "code",
      "source": [
        "from sklearn.feature_extraction.text import CountVectorizer\n",
        "\n",
        "v = CountVectorizer()\n",
        "v.fit([\"Thor Hathodawala is looking for a job\"])\n",
        "v.vocabulary_\n",
        "\n",
        "# give each word individually and it's index as a column\n",
        "# by default(one gram)\n",
        "# using fit function not fit_transform"
      ],
      "metadata": {
        "id": "8k32z0xhgVdN",
        "colab": {
          "base_uri": "https://localhost:8080/"
        },
        "outputId": "9fa55e68-54d0-47ae-883e-35a817cf316b"
      },
      "execution_count": 30,
      "outputs": [
        {
          "output_type": "execute_result",
          "data": {
            "text/plain": [
              "{'thor': 5, 'hathodawala': 1, 'is': 2, 'looking': 4, 'for': 0, 'job': 3}"
            ]
          },
          "metadata": {},
          "execution_count": 30
        }
      ]
    },
    {
      "cell_type": "code",
      "source": [
        "v = CountVectorizer(ngram_range=(1,1))\n",
        "v.fit([\"Thor Hathodawala is looking for a job\"])\n",
        "v.vocabulary_"
      ],
      "metadata": {
        "colab": {
          "base_uri": "https://localhost:8080/"
        },
        "id": "KemmRMvme8Pm",
        "outputId": "777f98b6-6c2f-4f8c-e665-84f400bafeae"
      },
      "execution_count": 31,
      "outputs": [
        {
          "output_type": "execute_result",
          "data": {
            "text/plain": [
              "{'thor': 5, 'hathodawala': 1, 'is': 2, 'looking': 4, 'for': 0, 'job': 3}"
            ]
          },
          "metadata": {},
          "execution_count": 31
        }
      ]
    },
    {
      "cell_type": "markdown",
      "source": [
        "##BI-GRAM"
      ],
      "metadata": {
        "id": "TJ8ngsSQfBeO"
      }
    },
    {
      "cell_type": "code",
      "source": [
        "text =[\"Thor Hathodawala is looking for a job\"]\n",
        "bow = CountVectorizer(ngram_range=(1,2))\n",
        "bow.fit(text)\n",
        "bow.vocabulary_"
      ],
      "metadata": {
        "colab": {
          "base_uri": "https://localhost:8080/"
        },
        "id": "373xCaMrfA59",
        "outputId": "3c009359-4b06-4592-9784-6d4646ebc0a8"
      },
      "execution_count": 32,
      "outputs": [
        {
          "output_type": "execute_result",
          "data": {
            "text/plain": [
              "{'thor': 9,\n",
              " 'hathodawala': 2,\n",
              " 'is': 4,\n",
              " 'looking': 7,\n",
              " 'for': 0,\n",
              " 'job': 6,\n",
              " 'thor hathodawala': 10,\n",
              " 'hathodawala is': 3,\n",
              " 'is looking': 5,\n",
              " 'looking for': 8,\n",
              " 'for job': 1}"
            ]
          },
          "metadata": {},
          "execution_count": 32
        }
      ]
    },
    {
      "cell_type": "code",
      "source": [
        "bow = CountVectorizer(ngram_range=(1,3))\n",
        "bow.fit(text)\n",
        "bow.vocabulary_"
      ],
      "metadata": {
        "colab": {
          "base_uri": "https://localhost:8080/"
        },
        "id": "MSdecnmWft9D",
        "outputId": "dd8d425b-58fe-4ef7-eb7f-578a26229ee5"
      },
      "execution_count": 33,
      "outputs": [
        {
          "output_type": "execute_result",
          "data": {
            "text/plain": [
              "{'thor': 12,\n",
              " 'hathodawala': 2,\n",
              " 'is': 5,\n",
              " 'looking': 9,\n",
              " 'for': 0,\n",
              " 'job': 8,\n",
              " 'thor hathodawala': 13,\n",
              " 'hathodawala is': 3,\n",
              " 'is looking': 6,\n",
              " 'looking for': 10,\n",
              " 'for job': 1,\n",
              " 'thor hathodawala is': 14,\n",
              " 'hathodawala is looking': 4,\n",
              " 'is looking for': 7,\n",
              " 'looking for job': 11}"
            ]
          },
          "metadata": {},
          "execution_count": 33
        }
      ]
    },
    {
      "cell_type": "markdown",
      "source": [
        "##Task :\n",
        "\n",
        "1- remove stop words\n",
        "\n",
        "2- lemmatize the text\n",
        "\n",
        "3- apply n-gram"
      ],
      "metadata": {
        "id": "ii85tXzJjjmF"
      }
    },
    {
      "cell_type": "code",
      "source": [
        "corpus = [\n",
        "    \"Thor ate pizza\",\n",
        "    \"Loki is tall\",\n",
        "    \"Loki is eating pizza\"\n",
        "]"
      ],
      "metadata": {
        "id": "FDg42tdMjdm-"
      },
      "execution_count": 34,
      "outputs": []
    },
    {
      "cell_type": "code",
      "source": [
        "# load english language model\n",
        "nlp = spacy.load(\"en_core_web_sm\")\n",
        "def preprocess(text):\n",
        "    # remove stop words and lemmatize the text\n",
        "    doc = nlp(text)\n",
        "    filtered_tokens = []\n",
        "    for token in doc:\n",
        "        if token.is_stop or token.is_punct:\n",
        "            continue\n",
        "        filtered_tokens.append(token.lemma_)\n",
        "\n",
        "    return \" \".join(filtered_tokens)\n"
      ],
      "metadata": {
        "id": "yAT7cWPnj7jf"
      },
      "execution_count": 35,
      "outputs": []
    },
    {
      "cell_type": "code",
      "source": [
        "preprocess(\"Thor ate pizza\")"
      ],
      "metadata": {
        "colab": {
          "base_uri": "https://localhost:8080/",
          "height": 35
        },
        "id": "e47twm2Xkk4h",
        "outputId": "04137bba-249e-4e98-902b-8bafaf5f6987"
      },
      "execution_count": 36,
      "outputs": [
        {
          "output_type": "execute_result",
          "data": {
            "text/plain": [
              "'thor eat pizza'"
            ],
            "application/vnd.google.colaboratory.intrinsic+json": {
              "type": "string"
            }
          },
          "metadata": {},
          "execution_count": 36
        }
      ]
    },
    {
      "cell_type": "code",
      "source": [
        "preprocess(\"Loki is eating pizza\")"
      ],
      "metadata": {
        "colab": {
          "base_uri": "https://localhost:8080/",
          "height": 35
        },
        "id": "d_Zd38qNkpPp",
        "outputId": "f530e16f-dde3-4229-a0e8-8e761d77eecd"
      },
      "execution_count": 37,
      "outputs": [
        {
          "output_type": "execute_result",
          "data": {
            "text/plain": [
              "'Loki eat pizza'"
            ],
            "application/vnd.google.colaboratory.intrinsic+json": {
              "type": "string"
            }
          },
          "metadata": {},
          "execution_count": 37
        }
      ]
    },
    {
      "cell_type": "code",
      "source": [
        "data = [preprocess(text) for text in corpus]\n",
        "data"
      ],
      "metadata": {
        "colab": {
          "base_uri": "https://localhost:8080/"
        },
        "id": "qP9UmaMHktoZ",
        "outputId": "68543158-150d-4e0f-fcd4-64359f8c680c"
      },
      "execution_count": 38,
      "outputs": [
        {
          "output_type": "execute_result",
          "data": {
            "text/plain": [
              "['thor eat pizza', 'Loki tall', 'Loki eat pizza']"
            ]
          },
          "metadata": {},
          "execution_count": 38
        }
      ]
    },
    {
      "cell_type": "code",
      "source": [
        "bi_gram= CountVectorizer(ngram_range=(1,2))\n",
        "bi_gram.fit(data)\n",
        "bi_gram.vocabulary_"
      ],
      "metadata": {
        "colab": {
          "base_uri": "https://localhost:8080/"
        },
        "id": "mXCUA2WIlDCi",
        "outputId": "7ab30747-9fd1-40e5-a60e-dbf567ee3e22"
      },
      "execution_count": 39,
      "outputs": [
        {
          "output_type": "execute_result",
          "data": {
            "text/plain": [
              "{'thor': 7,\n",
              " 'eat': 0,\n",
              " 'pizza': 5,\n",
              " 'thor eat': 8,\n",
              " 'eat pizza': 1,\n",
              " 'loki': 2,\n",
              " 'tall': 6,\n",
              " 'loki tall': 4,\n",
              " 'loki eat': 3}"
            ]
          },
          "metadata": {},
          "execution_count": 39
        }
      ]
    },
    {
      "cell_type": "code",
      "source": [
        "# fit >>>> take all the documents.\n",
        "# transform  >>> take sentence that you want to encode it.\n",
        "bi_gram.transform([\"Thor eat pizza\"]).toarray()"
      ],
      "metadata": {
        "colab": {
          "base_uri": "https://localhost:8080/"
        },
        "id": "wqgP989GlXsg",
        "outputId": "7284ad57-56ad-4592-8f1d-0411443574f3"
      },
      "execution_count": 40,
      "outputs": [
        {
          "output_type": "execute_result",
          "data": {
            "text/plain": [
              "array([[1, 1, 0, 0, 0, 1, 0, 1, 1]])"
            ]
          },
          "metadata": {},
          "execution_count": 40
        }
      ]
    },
    {
      "cell_type": "code",
      "source": [
        "bi_gram.transform([\"Hulk eat pizza\"]).toarray()"
      ],
      "metadata": {
        "colab": {
          "base_uri": "https://localhost:8080/"
        },
        "id": "kvESExG_GSBs",
        "outputId": "9f031bb6-1c2f-4bf6-93f5-ecd4f77c35e9"
      },
      "execution_count": 41,
      "outputs": [
        {
          "output_type": "execute_result",
          "data": {
            "text/plain": [
              "array([[1, 1, 0, 0, 0, 1, 0, 0, 0]])"
            ]
          },
          "metadata": {},
          "execution_count": 41
        }
      ]
    },
    {
      "cell_type": "markdown",
      "source": [
        "#TF-IDF"
      ],
      "metadata": {
        "id": "flN2UB_XGV6d"
      }
    },
    {
      "cell_type": "code",
      "source": [
        "from sklearn.feature_extraction.text import TfidfVectorizer\n",
        "import pandas as pd"
      ],
      "metadata": {
        "id": "0cEmgtu2GZwh"
      },
      "execution_count": 42,
      "outputs": []
    },
    {
      "cell_type": "code",
      "source": [
        "# Example documents\n",
        "docs = [\n",
        "  \"The quick brown fox jumps over the lazy dog.\",\n",
        "  \"A stitch in time saves nine.\",\n",
        "  \"The early bird catches the worm.\",\n",
        "  \"Actions speak louder than words.\",\n",
        "]"
      ],
      "metadata": {
        "id": "1Z0O_0ebGf-9"
      },
      "execution_count": 43,
      "outputs": []
    },
    {
      "cell_type": "code",
      "source": [
        "tf_idf=TfidfVectorizer()\n",
        "tf_data=tf_idf.fit_transform(docs).toarray()\n",
        "tf_data"
      ],
      "metadata": {
        "colab": {
          "base_uri": "https://localhost:8080/"
        },
        "id": "dL_uifglGsbD",
        "outputId": "89dbe99d-0ae2-4938-93d3-bd6a891f19db"
      },
      "execution_count": 44,
      "outputs": [
        {
          "output_type": "execute_result",
          "data": {
            "text/plain": [
              "array([[0.        , 0.        , 0.32467583, 0.        , 0.32467583,\n",
              "        0.        , 0.32467583, 0.        , 0.32467583, 0.32467583,\n",
              "        0.        , 0.        , 0.32467583, 0.32467583, 0.        ,\n",
              "        0.        , 0.        , 0.        , 0.5119563 , 0.        ,\n",
              "        0.        , 0.        ],\n",
              "       [0.        , 0.        , 0.        , 0.        , 0.        ,\n",
              "        0.        , 0.        , 0.4472136 , 0.        , 0.        ,\n",
              "        0.        , 0.4472136 , 0.        , 0.        , 0.4472136 ,\n",
              "        0.        , 0.4472136 , 0.        , 0.        , 0.4472136 ,\n",
              "        0.        , 0.        ],\n",
              "       [0.        , 0.39264414, 0.        , 0.39264414, 0.        ,\n",
              "        0.39264414, 0.        , 0.        , 0.        , 0.        ,\n",
              "        0.        , 0.        , 0.        , 0.        , 0.        ,\n",
              "        0.        , 0.        , 0.        , 0.6191303 , 0.        ,\n",
              "        0.        , 0.39264414],\n",
              "       [0.4472136 , 0.        , 0.        , 0.        , 0.        ,\n",
              "        0.        , 0.        , 0.        , 0.        , 0.        ,\n",
              "        0.4472136 , 0.        , 0.        , 0.        , 0.        ,\n",
              "        0.4472136 , 0.        , 0.4472136 , 0.        , 0.        ,\n",
              "        0.4472136 , 0.        ]])"
            ]
          },
          "metadata": {},
          "execution_count": 44
        }
      ]
    },
    {
      "cell_type": "markdown",
      "source": [
        "When sklearn.__version__ <= 0.24.x use following method\n",
        "\n",
        "get_feature_names()\n",
        "\n",
        "\n",
        "When sklearn.__version__ >= 1.0.x use following method\n",
        "\n",
        "get_feature_names_out()"
      ],
      "metadata": {
        "id": "34jwEF_JINad"
      }
    },
    {
      "cell_type": "code",
      "source": [
        "pd.DataFrame(tf_data , columns=tf_idf.get_feature_names_out())\n",
        "# will make every unique word as a feature, so because I have 22 columns.\n",
        "# noticed, the most frequency word is the least value of TF-IDF"
      ],
      "metadata": {
        "colab": {
          "base_uri": "https://localhost:8080/",
          "height": 224
        },
        "id": "2rOpXvTGG3zk",
        "outputId": "b0058a3a-426d-49f7-dbe9-a852b20412d6"
      },
      "execution_count": 45,
      "outputs": [
        {
          "output_type": "execute_result",
          "data": {
            "text/plain": [
              "    actions      bird     brown   catches       dog     early       fox  \\\n",
              "0  0.000000  0.000000  0.324676  0.000000  0.324676  0.000000  0.324676   \n",
              "1  0.000000  0.000000  0.000000  0.000000  0.000000  0.000000  0.000000   \n",
              "2  0.000000  0.392644  0.000000  0.392644  0.000000  0.392644  0.000000   \n",
              "3  0.447214  0.000000  0.000000  0.000000  0.000000  0.000000  0.000000   \n",
              "\n",
              "         in     jumps      lazy  ...      over     quick     saves     speak  \\\n",
              "0  0.000000  0.324676  0.324676  ...  0.324676  0.324676  0.000000  0.000000   \n",
              "1  0.447214  0.000000  0.000000  ...  0.000000  0.000000  0.447214  0.000000   \n",
              "2  0.000000  0.000000  0.000000  ...  0.000000  0.000000  0.000000  0.000000   \n",
              "3  0.000000  0.000000  0.000000  ...  0.000000  0.000000  0.000000  0.447214   \n",
              "\n",
              "     stitch      than       the      time     words      worm  \n",
              "0  0.000000  0.000000  0.511956  0.000000  0.000000  0.000000  \n",
              "1  0.447214  0.000000  0.000000  0.447214  0.000000  0.000000  \n",
              "2  0.000000  0.000000  0.619130  0.000000  0.000000  0.392644  \n",
              "3  0.000000  0.447214  0.000000  0.000000  0.447214  0.000000  \n",
              "\n",
              "[4 rows x 22 columns]"
            ],
            "text/html": [
              "\n",
              "  <div id=\"df-44130bf7-8173-4d16-b7b6-ebdfc56a1c06\" class=\"colab-df-container\">\n",
              "    <div>\n",
              "<style scoped>\n",
              "    .dataframe tbody tr th:only-of-type {\n",
              "        vertical-align: middle;\n",
              "    }\n",
              "\n",
              "    .dataframe tbody tr th {\n",
              "        vertical-align: top;\n",
              "    }\n",
              "\n",
              "    .dataframe thead th {\n",
              "        text-align: right;\n",
              "    }\n",
              "</style>\n",
              "<table border=\"1\" class=\"dataframe\">\n",
              "  <thead>\n",
              "    <tr style=\"text-align: right;\">\n",
              "      <th></th>\n",
              "      <th>actions</th>\n",
              "      <th>bird</th>\n",
              "      <th>brown</th>\n",
              "      <th>catches</th>\n",
              "      <th>dog</th>\n",
              "      <th>early</th>\n",
              "      <th>fox</th>\n",
              "      <th>in</th>\n",
              "      <th>jumps</th>\n",
              "      <th>lazy</th>\n",
              "      <th>...</th>\n",
              "      <th>over</th>\n",
              "      <th>quick</th>\n",
              "      <th>saves</th>\n",
              "      <th>speak</th>\n",
              "      <th>stitch</th>\n",
              "      <th>than</th>\n",
              "      <th>the</th>\n",
              "      <th>time</th>\n",
              "      <th>words</th>\n",
              "      <th>worm</th>\n",
              "    </tr>\n",
              "  </thead>\n",
              "  <tbody>\n",
              "    <tr>\n",
              "      <th>0</th>\n",
              "      <td>0.000000</td>\n",
              "      <td>0.000000</td>\n",
              "      <td>0.324676</td>\n",
              "      <td>0.000000</td>\n",
              "      <td>0.324676</td>\n",
              "      <td>0.000000</td>\n",
              "      <td>0.324676</td>\n",
              "      <td>0.000000</td>\n",
              "      <td>0.324676</td>\n",
              "      <td>0.324676</td>\n",
              "      <td>...</td>\n",
              "      <td>0.324676</td>\n",
              "      <td>0.324676</td>\n",
              "      <td>0.000000</td>\n",
              "      <td>0.000000</td>\n",
              "      <td>0.000000</td>\n",
              "      <td>0.000000</td>\n",
              "      <td>0.511956</td>\n",
              "      <td>0.000000</td>\n",
              "      <td>0.000000</td>\n",
              "      <td>0.000000</td>\n",
              "    </tr>\n",
              "    <tr>\n",
              "      <th>1</th>\n",
              "      <td>0.000000</td>\n",
              "      <td>0.000000</td>\n",
              "      <td>0.000000</td>\n",
              "      <td>0.000000</td>\n",
              "      <td>0.000000</td>\n",
              "      <td>0.000000</td>\n",
              "      <td>0.000000</td>\n",
              "      <td>0.447214</td>\n",
              "      <td>0.000000</td>\n",
              "      <td>0.000000</td>\n",
              "      <td>...</td>\n",
              "      <td>0.000000</td>\n",
              "      <td>0.000000</td>\n",
              "      <td>0.447214</td>\n",
              "      <td>0.000000</td>\n",
              "      <td>0.447214</td>\n",
              "      <td>0.000000</td>\n",
              "      <td>0.000000</td>\n",
              "      <td>0.447214</td>\n",
              "      <td>0.000000</td>\n",
              "      <td>0.000000</td>\n",
              "    </tr>\n",
              "    <tr>\n",
              "      <th>2</th>\n",
              "      <td>0.000000</td>\n",
              "      <td>0.392644</td>\n",
              "      <td>0.000000</td>\n",
              "      <td>0.392644</td>\n",
              "      <td>0.000000</td>\n",
              "      <td>0.392644</td>\n",
              "      <td>0.000000</td>\n",
              "      <td>0.000000</td>\n",
              "      <td>0.000000</td>\n",
              "      <td>0.000000</td>\n",
              "      <td>...</td>\n",
              "      <td>0.000000</td>\n",
              "      <td>0.000000</td>\n",
              "      <td>0.000000</td>\n",
              "      <td>0.000000</td>\n",
              "      <td>0.000000</td>\n",
              "      <td>0.000000</td>\n",
              "      <td>0.619130</td>\n",
              "      <td>0.000000</td>\n",
              "      <td>0.000000</td>\n",
              "      <td>0.392644</td>\n",
              "    </tr>\n",
              "    <tr>\n",
              "      <th>3</th>\n",
              "      <td>0.447214</td>\n",
              "      <td>0.000000</td>\n",
              "      <td>0.000000</td>\n",
              "      <td>0.000000</td>\n",
              "      <td>0.000000</td>\n",
              "      <td>0.000000</td>\n",
              "      <td>0.000000</td>\n",
              "      <td>0.000000</td>\n",
              "      <td>0.000000</td>\n",
              "      <td>0.000000</td>\n",
              "      <td>...</td>\n",
              "      <td>0.000000</td>\n",
              "      <td>0.000000</td>\n",
              "      <td>0.000000</td>\n",
              "      <td>0.447214</td>\n",
              "      <td>0.000000</td>\n",
              "      <td>0.447214</td>\n",
              "      <td>0.000000</td>\n",
              "      <td>0.000000</td>\n",
              "      <td>0.447214</td>\n",
              "      <td>0.000000</td>\n",
              "    </tr>\n",
              "  </tbody>\n",
              "</table>\n",
              "<p>4 rows × 22 columns</p>\n",
              "</div>\n",
              "    <div class=\"colab-df-buttons\">\n",
              "\n",
              "  <div class=\"colab-df-container\">\n",
              "    <button class=\"colab-df-convert\" onclick=\"convertToInteractive('df-44130bf7-8173-4d16-b7b6-ebdfc56a1c06')\"\n",
              "            title=\"Convert this dataframe to an interactive table.\"\n",
              "            style=\"display:none;\">\n",
              "\n",
              "  <svg xmlns=\"http://www.w3.org/2000/svg\" height=\"24px\" viewBox=\"0 -960 960 960\">\n",
              "    <path d=\"M120-120v-720h720v720H120Zm60-500h600v-160H180v160Zm220 220h160v-160H400v160Zm0 220h160v-160H400v160ZM180-400h160v-160H180v160Zm440 0h160v-160H620v160ZM180-180h160v-160H180v160Zm440 0h160v-160H620v160Z\"/>\n",
              "  </svg>\n",
              "    </button>\n",
              "\n",
              "  <style>\n",
              "    .colab-df-container {\n",
              "      display:flex;\n",
              "      gap: 12px;\n",
              "    }\n",
              "\n",
              "    .colab-df-convert {\n",
              "      background-color: #E8F0FE;\n",
              "      border: none;\n",
              "      border-radius: 50%;\n",
              "      cursor: pointer;\n",
              "      display: none;\n",
              "      fill: #1967D2;\n",
              "      height: 32px;\n",
              "      padding: 0 0 0 0;\n",
              "      width: 32px;\n",
              "    }\n",
              "\n",
              "    .colab-df-convert:hover {\n",
              "      background-color: #E2EBFA;\n",
              "      box-shadow: 0px 1px 2px rgba(60, 64, 67, 0.3), 0px 1px 3px 1px rgba(60, 64, 67, 0.15);\n",
              "      fill: #174EA6;\n",
              "    }\n",
              "\n",
              "    .colab-df-buttons div {\n",
              "      margin-bottom: 4px;\n",
              "    }\n",
              "\n",
              "    [theme=dark] .colab-df-convert {\n",
              "      background-color: #3B4455;\n",
              "      fill: #D2E3FC;\n",
              "    }\n",
              "\n",
              "    [theme=dark] .colab-df-convert:hover {\n",
              "      background-color: #434B5C;\n",
              "      box-shadow: 0px 1px 3px 1px rgba(0, 0, 0, 0.15);\n",
              "      filter: drop-shadow(0px 1px 2px rgba(0, 0, 0, 0.3));\n",
              "      fill: #FFFFFF;\n",
              "    }\n",
              "  </style>\n",
              "\n",
              "    <script>\n",
              "      const buttonEl =\n",
              "        document.querySelector('#df-44130bf7-8173-4d16-b7b6-ebdfc56a1c06 button.colab-df-convert');\n",
              "      buttonEl.style.display =\n",
              "        google.colab.kernel.accessAllowed ? 'block' : 'none';\n",
              "\n",
              "      async function convertToInteractive(key) {\n",
              "        const element = document.querySelector('#df-44130bf7-8173-4d16-b7b6-ebdfc56a1c06');\n",
              "        const dataTable =\n",
              "          await google.colab.kernel.invokeFunction('convertToInteractive',\n",
              "                                                    [key], {});\n",
              "        if (!dataTable) return;\n",
              "\n",
              "        const docLinkHtml = 'Like what you see? Visit the ' +\n",
              "          '<a target=\"_blank\" href=https://colab.research.google.com/notebooks/data_table.ipynb>data table notebook</a>'\n",
              "          + ' to learn more about interactive tables.';\n",
              "        element.innerHTML = '';\n",
              "        dataTable['output_type'] = 'display_data';\n",
              "        await google.colab.output.renderOutput(dataTable, element);\n",
              "        const docLink = document.createElement('div');\n",
              "        docLink.innerHTML = docLinkHtml;\n",
              "        element.appendChild(docLink);\n",
              "      }\n",
              "    </script>\n",
              "  </div>\n",
              "\n",
              "\n",
              "<div id=\"df-cfbc3822-40f9-406c-ae39-75f3c8e24f90\">\n",
              "  <button class=\"colab-df-quickchart\" onclick=\"quickchart('df-cfbc3822-40f9-406c-ae39-75f3c8e24f90')\"\n",
              "            title=\"Suggest charts\"\n",
              "            style=\"display:none;\">\n",
              "\n",
              "<svg xmlns=\"http://www.w3.org/2000/svg\" height=\"24px\"viewBox=\"0 0 24 24\"\n",
              "     width=\"24px\">\n",
              "    <g>\n",
              "        <path d=\"M19 3H5c-1.1 0-2 .9-2 2v14c0 1.1.9 2 2 2h14c1.1 0 2-.9 2-2V5c0-1.1-.9-2-2-2zM9 17H7v-7h2v7zm4 0h-2V7h2v10zm4 0h-2v-4h2v4z\"/>\n",
              "    </g>\n",
              "</svg>\n",
              "  </button>\n",
              "\n",
              "<style>\n",
              "  .colab-df-quickchart {\n",
              "      --bg-color: #E8F0FE;\n",
              "      --fill-color: #1967D2;\n",
              "      --hover-bg-color: #E2EBFA;\n",
              "      --hover-fill-color: #174EA6;\n",
              "      --disabled-fill-color: #AAA;\n",
              "      --disabled-bg-color: #DDD;\n",
              "  }\n",
              "\n",
              "  [theme=dark] .colab-df-quickchart {\n",
              "      --bg-color: #3B4455;\n",
              "      --fill-color: #D2E3FC;\n",
              "      --hover-bg-color: #434B5C;\n",
              "      --hover-fill-color: #FFFFFF;\n",
              "      --disabled-bg-color: #3B4455;\n",
              "      --disabled-fill-color: #666;\n",
              "  }\n",
              "\n",
              "  .colab-df-quickchart {\n",
              "    background-color: var(--bg-color);\n",
              "    border: none;\n",
              "    border-radius: 50%;\n",
              "    cursor: pointer;\n",
              "    display: none;\n",
              "    fill: var(--fill-color);\n",
              "    height: 32px;\n",
              "    padding: 0;\n",
              "    width: 32px;\n",
              "  }\n",
              "\n",
              "  .colab-df-quickchart:hover {\n",
              "    background-color: var(--hover-bg-color);\n",
              "    box-shadow: 0 1px 2px rgba(60, 64, 67, 0.3), 0 1px 3px 1px rgba(60, 64, 67, 0.15);\n",
              "    fill: var(--button-hover-fill-color);\n",
              "  }\n",
              "\n",
              "  .colab-df-quickchart-complete:disabled,\n",
              "  .colab-df-quickchart-complete:disabled:hover {\n",
              "    background-color: var(--disabled-bg-color);\n",
              "    fill: var(--disabled-fill-color);\n",
              "    box-shadow: none;\n",
              "  }\n",
              "\n",
              "  .colab-df-spinner {\n",
              "    border: 2px solid var(--fill-color);\n",
              "    border-color: transparent;\n",
              "    border-bottom-color: var(--fill-color);\n",
              "    animation:\n",
              "      spin 1s steps(1) infinite;\n",
              "  }\n",
              "\n",
              "  @keyframes spin {\n",
              "    0% {\n",
              "      border-color: transparent;\n",
              "      border-bottom-color: var(--fill-color);\n",
              "      border-left-color: var(--fill-color);\n",
              "    }\n",
              "    20% {\n",
              "      border-color: transparent;\n",
              "      border-left-color: var(--fill-color);\n",
              "      border-top-color: var(--fill-color);\n",
              "    }\n",
              "    30% {\n",
              "      border-color: transparent;\n",
              "      border-left-color: var(--fill-color);\n",
              "      border-top-color: var(--fill-color);\n",
              "      border-right-color: var(--fill-color);\n",
              "    }\n",
              "    40% {\n",
              "      border-color: transparent;\n",
              "      border-right-color: var(--fill-color);\n",
              "      border-top-color: var(--fill-color);\n",
              "    }\n",
              "    60% {\n",
              "      border-color: transparent;\n",
              "      border-right-color: var(--fill-color);\n",
              "    }\n",
              "    80% {\n",
              "      border-color: transparent;\n",
              "      border-right-color: var(--fill-color);\n",
              "      border-bottom-color: var(--fill-color);\n",
              "    }\n",
              "    90% {\n",
              "      border-color: transparent;\n",
              "      border-bottom-color: var(--fill-color);\n",
              "    }\n",
              "  }\n",
              "</style>\n",
              "\n",
              "  <script>\n",
              "    async function quickchart(key) {\n",
              "      const quickchartButtonEl =\n",
              "        document.querySelector('#' + key + ' button');\n",
              "      quickchartButtonEl.disabled = true;  // To prevent multiple clicks.\n",
              "      quickchartButtonEl.classList.add('colab-df-spinner');\n",
              "      try {\n",
              "        const charts = await google.colab.kernel.invokeFunction(\n",
              "            'suggestCharts', [key], {});\n",
              "      } catch (error) {\n",
              "        console.error('Error during call to suggestCharts:', error);\n",
              "      }\n",
              "      quickchartButtonEl.classList.remove('colab-df-spinner');\n",
              "      quickchartButtonEl.classList.add('colab-df-quickchart-complete');\n",
              "    }\n",
              "    (() => {\n",
              "      let quickchartButtonEl =\n",
              "        document.querySelector('#df-cfbc3822-40f9-406c-ae39-75f3c8e24f90 button');\n",
              "      quickchartButtonEl.style.display =\n",
              "        google.colab.kernel.accessAllowed ? 'block' : 'none';\n",
              "    })();\n",
              "  </script>\n",
              "</div>\n",
              "\n",
              "    </div>\n",
              "  </div>\n"
            ],
            "application/vnd.google.colaboratory.intrinsic+json": {
              "type": "dataframe"
            }
          },
          "metadata": {},
          "execution_count": 45
        }
      ]
    },
    {
      "cell_type": "markdown",
      "source": [
        "## the numbers of uniques words(min_df)\n",
        "\n",
        "1- min_df>>>>>>> will control the numbers of words which will be appeared based on numbers of frequency"
      ],
      "metadata": {
        "id": "W0zTLb7jIwdk"
      }
    },
    {
      "cell_type": "code",
      "source": [
        "#the default of min_df is one\n",
        "doc1 = \"the quick brown fox\"\n",
        "doc2 = \"the lazy dog\"\n",
        "doc3 = \"the quick brown cat\"\n",
        "\n",
        "tf_idf = TfidfVectorizer(min_df=2)\n",
        "Data = tf_idf.fit_transform([doc1, doc2, doc3])\n",
        "print(tf_idf.get_feature_names_out())  # ['brown', 'cat', 'dog', 'fox', 'lazy', 'quick', 'the']\n",
        "print(Data.toarray())"
      ],
      "metadata": {
        "colab": {
          "base_uri": "https://localhost:8080/"
        },
        "id": "pLm6mklpIEcg",
        "outputId": "09329351-9aff-44b2-8b9b-27ba22b6a98d"
      },
      "execution_count": 46,
      "outputs": [
        {
          "output_type": "stream",
          "name": "stdout",
          "text": [
            "['brown' 'quick' 'the']\n",
            "[[0.61980538 0.61980538 0.48133417]\n",
            " [0.         0.         1.        ]\n",
            " [0.61980538 0.61980538 0.48133417]]\n"
          ]
        }
      ]
    },
    {
      "cell_type": "code",
      "source": [
        "tf_idf = TfidfVectorizer(min_df=2,stop_words='english')\n",
        "Data= tf_idf.fit_transform([doc1, doc2, doc3])\n",
        "print(tf_idf.get_feature_names_out())  # ['brown', 'quick', 'the']\n",
        "print(Data.toarray())\n",
        "\n",
        "#noticed that [the]>>>>>>>>not appeared becuse it is from stop_word"
      ],
      "metadata": {
        "colab": {
          "base_uri": "https://localhost:8080/"
        },
        "id": "ReXwe07s4xl7",
        "outputId": "b6b72bf7-5d8d-429c-8149-67841a662ff6"
      },
      "execution_count": 47,
      "outputs": [
        {
          "output_type": "stream",
          "name": "stdout",
          "text": [
            "['brown' 'quick']\n",
            "[[0.70710678 0.70710678]\n",
            " [0.         0.        ]\n",
            " [0.70710678 0.70710678]]\n"
          ]
        }
      ]
    }
  ]
}